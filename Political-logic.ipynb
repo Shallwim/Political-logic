{
 "cells": [
  {
   "cell_type": "markdown",
   "metadata": {},
   "source": [
    "政治是一个人生存，以及优化自己人生决策的最底层优化条件。\n",
    "而政治本身是有逻辑可言的。有逻辑就意味着可以通过已知推导出未知的事情。\n",
    "而网络上有很多东西干扰判断，所以要化繁为简，找出事物之间的内在逻辑。\n",
    "\n",
    "这个项目是个实验项目，启发来自政事堂2019公众号的《如何提升分析能力》。\n",
    "\n",
    "从事物的普遍存在中发现“公理”，再从中归纳出“定理”，以此为基础做一个辅助分析程序。\n",
    "分析程序会根据定理的修复而优化。\n",
    "\n",
    "原则：\n",
    "\n",
    "实事求是\n",
    "\n",
    "大胆假设，小心求证\n"
   ]
  },
  {
   "cell_type": "markdown",
   "metadata": {},
   "source": [
    "## 辅助决策用法  \n",
    "采用单步演算的形式  \n",
    "先确定现在已经发生了的事情即：  \n",
    "A对象 怎么了 B对象  \n",
    "然后会出现什么现象。对其他对象有没有影响  \n",
    "接下来为了应对出现的现象需要采取什么措施  \n",
    "\n",
    "### 历史记载\n",
    "### 两种决策比较\n",
    "支持将两种不同的决策的后果进行比较"
   ]
  },
  {
   "cell_type": "markdown",
   "metadata": {},
   "source": [
    "小想法  \n",
    "客观条件  \n",
    "客观条件是既定事实，无法更改"
   ]
  },
  {
   "cell_type": "markdown",
   "metadata": {},
   "source": [
    "## 类的设计：\n",
    "时间轴：时间轴记录对象事件是否发生。如果一个对象事件有时间的前提条件时，只在那一段时间内有效。比如  \n",
    "1958-1960：苏联援华投资中断，中国采取什么应对政策。\n",
    "\n",
    "地理条件：\n",
    "\n",
    "国家：\n",
    "\n",
    "资本：\n",
    "分为国家资本和私人资本，工业化的必须品。\n",
    "具有危机周期\n",
    "\n",
    "政府：\n",
    "分为中央政府和地方政府。由少数人管理。\n",
    "\n",
    "人民：\n"
   ]
  },
  {
   "cell_type": "markdown",
   "metadata": {},
   "source": [
    "类的优势比较"
   ]
  },
  {
   "cell_type": "markdown",
   "metadata": {},
   "source": [
    "## 概念\n"
   ]
  },
  {
   "cell_type": "markdown",
   "metadata": {},
   "source": [
    "## 定理\n",
    "1. 没有永远的朋友，只有永远的利益。  \n",
    "只有共同的**利益**才是维护**关系**的基础。"
   ]
  },
  {
   "cell_type": "markdown",
   "metadata": {},
   "source": [
    "## 字段  \n",
    "#### 字段由定理衍生而来，是在逻辑分析中起重要作用的一些特定名词。\n",
    "利益：  \n",
    "关系：  \n"
   ]
  },
  {
   "cell_type": "markdown",
   "metadata": {},
   "source": [
    "## 假设\n",
    "#### 假设是未证明过的主张。需要在实际生活中验证准确性"
   ]
  },
  {
   "cell_type": "markdown",
   "metadata": {},
   "source": [
    "## 关系类型\n",
    "#### 各对象发生关系的方式"
   ]
  },
  {
   "cell_type": "markdown",
   "metadata": {},
   "source": [
    "## 提示\n",
    "#### 在决策过程中，非直接相关的结论使用提示的方式提出"
   ]
  }
 ],
 "metadata": {
  "anaconda-cloud": {},
  "kernelspec": {
   "display_name": "Python [default]",
   "language": "python",
   "name": "python3"
  },
  "language_info": {
   "codemirror_mode": {
    "name": "ipython",
    "version": 3
   },
   "file_extension": ".py",
   "mimetype": "text/x-python",
   "name": "python",
   "nbconvert_exporter": "python",
   "pygments_lexer": "ipython3",
   "version": "3.5.2"
  }
 },
 "nbformat": 4,
 "nbformat_minor": 1
}
